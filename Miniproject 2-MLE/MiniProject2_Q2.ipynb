{
 "cells": [
  {
   "cell_type": "code",
   "execution_count": 1,
   "metadata": {
    "id": "KRvLKSR5Nv-n"
   },
   "outputs": [],
   "source": [
    "import numpy as np\n",
    "from scipy.stats import gumbel_r\n",
    "import matplotlib.pyplot as plt \n",
    "import scipy.integrate as integrate\n",
    "import math\n",
    "from scipy.stats import norm\n",
    "import seaborn as sns\n",
    "import scipy.stats as stats\n"
   ]
  },
  {
   "cell_type": "code",
   "execution_count": 2,
   "metadata": {
    "id": "t1ouAvm0gdNI"
   },
   "outputs": [],
   "source": [
    "#Derivative of log likelihood, for Newton-Raphson method\n",
    "def l_dash(y, n, sigma, mu = 14.9787):\n",
    "  term1 = -1*n/sigma\n",
    "  term2 = np.sum((y - mu)/(sigma ** 2))\n",
    "  term3 = -1*np.sum(((y - mu)/(sigma ** 2)) * np.exp(-1*(y - mu)/sigma))\n",
    "  l_dash = term1 + term2 + term3\n",
    "\n",
    "  return l_dash"
   ]
  },
  {
   "cell_type": "code",
   "execution_count": 3,
   "metadata": {
    "id": "fFYvLpQEh2iw"
   },
   "outputs": [],
   "source": [
    "#Double derivative of log likelihood, for Newton-Raphson method\n",
    "def l_double_dash(y, n, sigma, mu = 14.9787):\n",
    "  term1 = n/(sigma ** 2)\n",
    "  term2 = -2*np.sum(y - mu)/(sigma ** 3)\n",
    "  term3 = 2*np.sum((y - mu) * np.exp(-1*(y - mu)/sigma))/(sigma ** 3)\n",
    "  term4 = -1*np.sum((y - mu)**2 * np.exp(-1*(y-mu)/sigma))/(sigma**4)\n",
    "  l_double_dash = term1 + term2 + term3 + term4\n",
    "\n",
    "  return l_double_dash "
   ]
  },
  {
   "cell_type": "code",
   "execution_count": 4,
   "metadata": {
    "id": "2E5TKiuCd8qX"
   },
   "outputs": [],
   "source": [
    "#Estimating sigma using Newton-Raphson method\n",
    "def newton_raphson(y, n, threshold = 1e-4):\n",
    "  sigma = 0.1 #Initial value of sigma\n",
    "  \n",
    "  while(l_dash(y, n, sigma) > threshold):\n",
    "    sigma = sigma - l_dash(y, n, sigma)/l_double_dash(y, n, sigma)   #Newton-Raphson method update equation\n",
    "  \n",
    "  return sigma"
   ]
  },
  {
   "cell_type": "code",
   "execution_count": 5,
   "metadata": {
    "id": "ySs3N1xZPJjH"
   },
   "outputs": [],
   "source": [
    "def estimate_sigma(n):\n",
    "  mean = 5\n",
    "  K = 20\n",
    "  \n",
    "  X = np.random.exponential(mean, (K, n))   #generating 20 samples from exponential distribution\n",
    "  Y = np.max(X, axis = 0)   #taking its maximum (Gumbel distribution)\n",
    "  sigma = newton_raphson(Y, n)  #Estimating sigma using Newton-Raphson method\n",
    "  \n",
    "  return sigma"
   ]
  },
  {
   "cell_type": "code",
   "execution_count": null,
   "metadata": {
    "id": "ZH0R3JHKtUTa"
   },
   "outputs": [],
   "source": [
    "N = [1, 10, 100, 1000, 10000] #list of values of N\n",
    "runs = 1000  #no. of runs\n",
    "sigmas = np.zeros((runs, len(N))) \n",
    "\n",
    "#estimating sigma\n",
    "for j, n in enumerate(N):\n",
    "  for i in range(runs):\n",
    "    sigmas[i, j] = estimate_sigma(n)"
   ]
  },
  {
   "cell_type": "code",
   "execution_count": null,
   "metadata": {
    "colab": {
     "base_uri": "https://localhost:8080/"
    },
    "id": "Ki7xsMZALTkl",
    "outputId": "beaffce2-d637-46d1-de00-db6ac26966de"
   },
   "outputs": [],
   "source": [
    "#printing sigma for a single run\n",
    "for n in N:\n",
    "  sigma_hat = estimate_sigma(n)\n",
    "  print(\"n: \", n, \"sigma_est: \", sigma_hat)"
   ]
  },
  {
   "cell_type": "code",
   "execution_count": null,
   "metadata": {
    "colab": {
     "base_uri": "https://localhost:8080/"
    },
    "id": "tgqFZaOl9iFg",
    "outputId": "8a007cba-ac84-47c9-c56b-11e045bcf99e"
   },
   "outputs": [],
   "source": [
    "var = np.zeros(len(N))\n",
    "expec = np.zeros(len(N))\n",
    "\n",
    "#printing estimation of sigma and variance for 100 runs\n",
    "for j,n in enumerate(N):\n",
    "  var[j] = np.var(sigmas[:, j])\n",
    "  expec[j] = np.mean(sigmas[:, j])\n",
    "  print(\"N: \", n, \"Sigma: \", expec[j], \"Variance: \", var[j])"
   ]
  },
  {
   "cell_type": "code",
   "execution_count": null,
   "metadata": {
    "colab": {
     "base_uri": "https://localhost:8080/"
    },
    "id": "5Ulsruz6KKbQ",
    "outputId": "f0fac70a-0b2b-4bad-964b-4201bca192bb"
   },
   "outputs": [],
   "source": [
    "mu = 14.9787\n",
    "sigma = 5\n",
    "\n",
    "x=np.arange(0,10,0.001)\n",
    "probs=np.array(range(runs))/float(runs)\n",
    "for j,n in enumerate(N):\n",
    "    sortVal = np.sort(sigmas[:,j])\n",
    "    plt.plot(sortVal, probs,label=\"n={n}\".format(n=n))\n",
    "plt.legend()\n",
    "plt.title(\"CDF for various values of N\")\n",
    "plt.xlim([4,6])\n",
    "plt.title(\"CDF of $\\hat{\\sigma}_{gev}$ for various values of N\")\n",
    "plt.xlabel(\"$\\hat{\\sigma}_{gev}$\")\n",
    "plt.ylabel(\"CDF\")\n",
    "plt.show()"
   ]
  },
  {
   "cell_type": "code",
   "execution_count": null,
   "metadata": {
    "id": "Po-KZR__wpil"
   },
   "outputs": [],
   "source": [
    "#calculating Fisher information\n",
    "\n",
    "def integrand(y, sigma = 5, mu = 14.9787):\n",
    "  term1 = 1/(sigma ** 2)\n",
    "  term2 = -2*(y - mu)/(sigma ** 3)\n",
    "  term3 = 2*((y - mu) * np.exp(-1*(y - mu)/sigma))/(sigma ** 3)\n",
    "  term4 = -1*((y - mu)**2 * np.exp(-1*(y-mu)/sigma))/(sigma**4)\n",
    "  l_double_dash = term1 + term2 + term3 + term4\n",
    "\n",
    "  return l_double_dash\n",
    "\n",
    "def pdf(y):\n",
    "  return gumbel_r.pdf(y, 14.9787, 5)\n",
    "\n",
    "I = integrate.quad(lambda y: integrand(y)*pdf(y), 0, np.inf)\n",
    "fisher = -1*I[0]"
   ]
  },
  {
   "cell_type": "code",
   "execution_count": null,
   "metadata": {
    "colab": {
     "base_uri": "https://localhost:8080/",
     "height": 229
    },
    "id": "0jgVeFtwzyQA",
    "outputId": "f2ce989d-f6c6-46c4-8458-88893ed34555"
   },
   "outputs": [],
   "source": [
    "#cdf with fisher\n",
    "s=1\n",
    "x=np.arange(-10,10,0.01)                 \n",
    "\n",
    "nvalues=np.empty(np.shape(sigmas))\n",
    "for j,n in enumerate(N):\n",
    "  for i in range(runs):\n",
    "    nvalues[i,j]=n\n",
    "\n",
    "probs=np.array(range(runs))/float(runs)\n",
    "for j,n in enumerate(N):\n",
    "    sig_ecor[:,j] = math.sqrt(n) * (sigmas[:, j] - expec[j])\n",
    "    sortVal = np.sort(sig_ecor[:,j])\n",
    "    plt.plot(sortVal, probs,label=\"n={n}\".format(n=n))\n",
    "plt.plot(x,stats.norm.cdf(x, 0, np.sqrt(1/fisher)),'r.', label=\"normal with fisher\")\n",
    "plt.xlim([-10,10])\n",
    "plt.title(\"CDF of $\\sqrt{N}*(\\hat{\\sigma}_{gev} - \\sigma)$\")\n",
    "plt.xlabel(\"y\")\n",
    "plt.ylabel(\"Density\")\n",
    "plt.legend()\n",
    "# plt.savefig('3_2.png')\n",
    "plt.show()"
   ]
  },
  {
   "cell_type": "code",
   "execution_count": null,
   "metadata": {
    "id": "8F-3lk6NqlHE"
   },
   "outputs": [],
   "source": [
    "#plotting pdf\n",
    "\n",
    "\n",
    "width=0.006\n",
    "b=np.arange(0,10,width)\n",
    "for j,n in enumerate(N):\n",
    "    if n!=0:\n",
    "        probs, b = np.histogram(sigmas[:,j], bins=b) # bin it into n = N//10 bins\n",
    "        probs=probs/runs\n",
    "        bincentre = b[:-1] + (b[1] - b[0])/2   # convert bin edges to centers\n",
    "        plt.plot(bincentre, probs,label=\"n={n}\".format(n=n))\n",
    "        # plt.bar(bincentre, probs, align = 'center', width = width,label=\"n={n}\".format(n=n))\n",
    "plt.xlim([4.5,5])\n",
    "plt.title(\"pdf of $\\hat{\\sigma}_{gev}$ various N\")\n",
    "plt.xlabel(\"$\\hat{\\sigma}_{gev}$\")\n",
    "plt.ylabel(\"Density\")\n",
    "plt.legend()\n",
    "plt.show()"
   ]
  },
  {
   "cell_type": "code",
   "execution_count": null,
   "metadata": {
    "id": "W45X1moWYQ7V"
   },
   "outputs": [],
   "source": [
    "#plotting sqrt(N)*(sigma_est - sigma) and the normal distribution\n",
    "for j,n in enumerate(N):\n",
    "  x = math.sqrt(n) * (sigmas[:, j] - expec[j])\n",
    "  sns.kdeplot(x, label = \"n={n}\".format(n=n), legend = True)\n",
    "y = np.linspace(-15, 20)\n",
    "plt.plot(y, norm.pdf(y, 0, math.sqrt(1/fisher)), label = \"Normal dist\")\n",
    "plt.title(\"$\\sqrt{N}*(\\hat{\\sigma}_{gev} - \\sigma)$ and the normal distribution\")\n",
    "plt.xlabel(\"x\")\n",
    "plt.legend()"
   ]
  }
 ],
 "metadata": {
  "colab": {
   "collapsed_sections": [],
   "name": "Mini Project 2 Question 2.ipynb",
   "provenance": []
  },
  "kernelspec": {
   "display_name": "Python 3",
   "language": "python",
   "name": "python3"
  },
  "language_info": {
   "codemirror_mode": {
    "name": "ipython",
    "version": 3
   },
   "file_extension": ".py",
   "mimetype": "text/x-python",
   "name": "python",
   "nbconvert_exporter": "python",
   "pygments_lexer": "ipython3",
   "version": "3.8.8"
  }
 },
 "nbformat": 4,
 "nbformat_minor": 1
}
